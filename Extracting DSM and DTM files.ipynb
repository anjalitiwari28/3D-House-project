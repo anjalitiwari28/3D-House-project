{
 "cells": [
  {
   "cell_type": "markdown",
   "metadata": {},
   "source": [
    "Extract 43 zipped DSM and DTM files from url "
   ]
  },
  {
   "cell_type": "code",
   "execution_count": null,
   "metadata": {},
   "outputs": [],
   "source": [
    "import requests\n",
    "from bs4 import BeautifulSoup\n",
    "\n",
    "newfile = open('DSM.txt','w')\n",
    "\n",
    "url = \"https://www.geopunt.be/download?container=dhm-vlaanderen-ii-dsm-raster-1m&title=Digitaal%20Hoogtemodel%20Vlaanderen%20II,%20DSM,%20raster,%201m\"\n",
    "page = requests.get(url)\n",
    "\n",
    "soup = BeautifulSoup(page.content)\n",
    "soup.prettify()\n",
    "\n",
    "for anchor in soup.findAll('a', href= True):\n",
    "    links = anchor['href']\n",
    "    if links.endswith('.zip'):\n",
    "        newfile.write(links + '\\n')\n",
    "newfile.close()\n",
    "\n",
    "with open('DSM.txt', 'r') as links:\n",
    "    for link in links:\n",
    "        if link:\n",
    "            filename1 = link.split('/')[-1]\n",
    "            filename = filename1[:-1]\n",
    "            print(filename + 'file statred to download')\n",
    "            response = requests.get(link[:-1])\n",
    "\n",
    "            with open(filename,'wb') as output_file:\n",
    "                output_file.write(response.content)\n",
    "            print(filename +'file is downloaded')\n",
    "\n",
    "\n"
   ]
  },
  {
   "cell_type": "markdown",
   "metadata": {},
   "source": [
    "read bounds from each tiff file of DSM and  save it as dictionary and then make dataframe "
   ]
  },
  {
   "cell_type": "code",
   "execution_count": null,
   "metadata": {},
   "outputs": [],
   "source": [
    "import os \n",
    "import rasterio as rio\n",
    "import pandas as pd\n",
    "\n",
    "folder = \"/home/anjali/Becode_projects/3D-House-project/DSM\"\n",
    "DSM_tif = {\"filename\" : [], \"bound[0]\" : [], \"bound[1]\" : [],\"bound[2]\" : [],\"bound[3]\" : []}\n",
    "for path, dirs, files in os.walk(folder): \n",
    "    for filename in files:\n",
    "        print(filename)\n",
    "        if filename.endswith(\".tif\"):\n",
    "            DSM_tif [\"filename\"].append(filename)\n",
    "\n",
    "            DSM_tif_path = os.path.join(path,filename)\n",
    "\n",
    "            with rio.open(DSM_tif_path) as DSM:\n",
    "                bounds = DSM.bounds\n",
    "                DSM_tif [\"bound[0]\"].append(bounds[0])\n",
    "                DSM_tif [\"bound[1]\"].append(bounds[1])\n",
    "                DSM_tif [\"bound[2]\"].append(bounds[2])\n",
    "                DSM_tif [\"bound[3]\"].append(bounds[3])\n",
    "\n",
    "DSM_bounds = pd.DataFrame.from_dict(DSM_tif)\n",
    "print(DSM_bounds)\n",
    "\n",
    "\n",
    "\n",
    "\n"
   ]
  },
  {
   "cell_type": "code",
   "execution_count": 11,
   "metadata": {},
   "outputs": [],
   "source": [
    "DSM_bounds.to_csv('DSM_bounds.csv', mode='a', header=False)"
   ]
  },
  {
   "cell_type": "code",
   "execution_count": 8,
   "metadata": {},
   "outputs": [],
   "source": [
    "DSM_bounds.to_csv(\"DSM_bounds.csv\")"
   ]
  }
 ],
 "metadata": {
  "interpreter": {
   "hash": "916dbcbb3f70747c44a77c7bcd40155683ae19c65e1c03b4aa3499c5328201f1"
  },
  "kernelspec": {
   "display_name": "Python 3.9.7 64-bit",
   "language": "python",
   "name": "python3"
  },
  "language_info": {
   "codemirror_mode": {
    "name": "ipython",
    "version": 3
   },
   "file_extension": ".py",
   "mimetype": "text/x-python",
   "name": "python",
   "nbconvert_exporter": "python",
   "pygments_lexer": "ipython3",
   "version": "3.9.7"
  },
  "orig_nbformat": 4
 },
 "nbformat": 4,
 "nbformat_minor": 2
}
